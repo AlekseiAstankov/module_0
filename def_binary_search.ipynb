{
 "cells": [
  {
   "cell_type": "code",
   "execution_count": null,
   "metadata": {},
   "outputs": [],
   "source": [
    "def binary_search(number):\n",
    "    \"\"\"This function uses a Binary Method to search for a given number.\n",
    "       As result we will receive quantity of attempts.\n",
    "       This function created just to show and explain a principle of Binary Method.\"\"\"\n",
    "    \n",
    "    left = 0\n",
    "    right = 100\n",
    "    attempt = 1\n",
    "    \n",
    "    # We know that the number is inside of a range 1..100\n",
    "    # So first of all lets check extreme and middle values.\n",
    "    # And this is will be attempt №1:  \n",
    "    if number == 50 or number == 1 or number == 100:\n",
    "        return print('Загаданное число {} найдено с первой попытки!'.format(number))\n",
    "      \n",
    "    while left <= right: \n",
    "        middle = int((left+right) / 2)  # We've got 2 ranges: 1..50 and 50..100\n",
    "        \n",
    "        # If our desired value located in the left range,\n",
    "        # we move its right border to left:\n",
    "        if number < middle:   \n",
    "            right = middle - 1 \n",
    "            \n",
    "        # If our desired value located in the right range,\n",
    "        # we move its left border to right:\n",
    "        elif number > middle: \n",
    "            left = middle + 1   \n",
    "        \n",
    "        # If our desired value Not less and not More than middle, it means we've found it one\n",
    "        else:  \n",
    "            return print('Загаданное число {} найдено с попытки № {}'.format(number, attempt))\n",
    "        attempt += 1\n"
   ]
  }
 ],
 "metadata": {
  "kernelspec": {
   "display_name": "Python 3",
   "language": "python",
   "name": "python3"
  },
  "language_info": {
   "codemirror_mode": {
    "name": "ipython",
    "version": 3
   },
   "file_extension": ".py",
   "mimetype": "text/x-python",
   "name": "python",
   "nbconvert_exporter": "python",
   "pygments_lexer": "ipython3",
   "version": "3.7.6"
  }
 },
 "nbformat": 4,
 "nbformat_minor": 4
}
